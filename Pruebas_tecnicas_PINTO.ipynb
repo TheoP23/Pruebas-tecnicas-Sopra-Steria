{
 "cells": [
  {
   "cell_type": "markdown",
   "metadata": {},
   "source": [
    "# 1. Algorithme qui lit un nombre entier et détermine s&#39;il est pair ou impair."
   ]
  },
  {
   "cell_type": "code",
   "execution_count": 33,
   "metadata": {},
   "outputs": [
    {
     "name": "stdout",
     "output_type": "stream",
     "text": [
      "33 est impair. Liste des nbr impairs décroissants jusqu'à 1 :\n",
      "33 31 29 27 25 23 21 19 17 15 13 11 9 7 5 3 1 \n"
     ]
    }
   ],
   "source": [
    "NOMBRE = int(input(\"Entrez un nombre entier : \"))\n",
    "\n",
    "if NOMBRE % 2 == 0:\n",
    "    print(NOMBRE, \"est pair. Liste des nbr pairs décroissants jusqu'à 0 :\")\n",
    "    for i in range(NOMBRE, -1, -2):\n",
    "        print(i, end=\" \")\n",
    "else:\n",
    "    print(NOMBRE, \"est impair. Liste des nbr impairs décroissants jusqu'à 1 :\")\n",
    "    for i in range(NOMBRE, 0, -2):\n",
    "        print(i, end=\" \")\n",
    "print()"
   ]
  },
  {
   "cell_type": "markdown",
   "metadata": {},
   "source": [
    "# 2. Algorithme qui visualise une classification de 50 personnes selon l'âge et le sexe."
   ]
  },
  {
   "cell_type": "code",
   "execution_count": 32,
   "metadata": {},
   "outputs": [
    {
     "name": "stdout",
     "output_type": "stream",
     "text": [
      "Personnes majeures : 41\n",
      "Personnes mineures : 9\n",
      "Personnes de sexe masculin majeures : 17\n",
      "Personnes de sexe féminin mineures : 5\n",
      "Pourcentage de personnes majeures : 82.00%\n",
      "Pourcentage de femmes : 58.00%\n"
     ]
    }
   ],
   "source": [
    "import random\n",
    "LIRE_PERSONNES = [{'sexe': random.choice(['M', 'F']), 'age': random.randint(1, 90)} for _ in range(50)]\n",
    "\n",
    "majeurs = 0\n",
    "mineurs = 0\n",
    "hommes_majeurs = 0\n",
    "femmes_mineures = 0\n",
    "femmes = 0\n",
    "\n",
    "for PERSONNES in LIRE_PERSONNES:\n",
    "    age = PERSONNES['age']\n",
    "    sexe = PERSONNES['sexe']\n",
    "    \n",
    "    if age >= 18:\n",
    "        majeurs += 1\n",
    "        if sexe == 'M':\n",
    "            hommes_majeurs += 1\n",
    "    else:\n",
    "        mineurs += 1\n",
    "        if sexe == 'F':\n",
    "            femmes_mineures += 1\n",
    "            \n",
    "    if sexe == 'F':\n",
    "        femmes += 1\n",
    "\n",
    "pourcentage_majeurs = (majeurs / len(LIRE_PERSONNES)) * 100\n",
    "pourcentage_femmes = (femmes / len(LIRE_PERSONNES)) * 100\n",
    "\n",
    "print(\"Nombre de personnes majeures :\", majeurs)\n",
    "print(\"Nombre de personnes mineures :\", mineurs)\n",
    "print(\"Nombre de personnes de sexe masculin majeures :\", hommes_majeurs)\n",
    "print(\"Nombre de personnes de sexe féminin mineures :\", femmes_mineures)\n",
    "print(f\"Pourcentage de personnes majeures : {pourcentage_majeurs:.2f}%\")\n",
    "print(f\"Pourcentage de femmes : {pourcentage_femmes:.2f}%\")\n"
   ]
  },
  {
   "cell_type": "markdown",
   "metadata": {},
   "source": [
    "# 3. Algorithme pour calculer le salaire d'un travailleur."
   ]
  },
  {
   "cell_type": "code",
   "execution_count": 34,
   "metadata": {},
   "outputs": [
    {
     "name": "stdout",
     "output_type": "stream",
     "text": [
      "Le salaire total est : 1037.00\n"
     ]
    }
   ],
   "source": [
    "HEURESTRAVAILLEES = float(input(\"Nombre d'heures travaillées : \"))\n",
    "TARIF = float(input(\"Tarif horaire : \"))\n",
    "\n",
    "if HEURESTRAVAILLEES > 40:\n",
    "    heures_supp = HEURESTRAVAILLEES - 40\n",
    "    salaire = (40 * TARIF) + (heures_supp * TARIF * 1.5)\n",
    "else:\n",
    "    salaire = HEURESTRAVAILLEES * TARIF\n",
    "\n",
    "print(f\"Le salaire total est : {salaire:.2f}\")\n"
   ]
  }
 ],
 "metadata": {
  "kernelspec": {
   "display_name": "Python 3",
   "language": "python",
   "name": "python3"
  },
  "language_info": {
   "codemirror_mode": {
    "name": "ipython",
    "version": 3
   },
   "file_extension": ".py",
   "mimetype": "text/x-python",
   "name": "python",
   "nbconvert_exporter": "python",
   "pygments_lexer": "ipython3",
   "version": "3.9.6"
  }
 },
 "nbformat": 4,
 "nbformat_minor": 2
}
